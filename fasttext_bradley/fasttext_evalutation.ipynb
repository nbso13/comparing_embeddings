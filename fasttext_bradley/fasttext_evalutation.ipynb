{
 "metadata": {
  "language_info": {
   "codemirror_mode": {
    "name": "ipython",
    "version": 3
   },
   "file_extension": ".py",
   "mimetype": "text/x-python",
   "name": "python",
   "nbconvert_exporter": "python",
   "pygments_lexer": "ipython3",
   "version": "3.8.5-final"
  },
  "orig_nbformat": 2,
  "kernelspec": {
   "name": "python38564bitd0f716ec3ba9485fbb6e044caca2f77a",
   "display_name": "Python 3.8.5 64-bit"
  }
 },
 "nbformat": 4,
 "nbformat_minor": 2,
 "cells": [
  {
   "source": [
    "import pandas as pd\n",
    "import fasttext\n",
    "import fasttext_models\n",
    "\n",
    "\n",
    "print(\"First thing's first, we need to make our models.\\nWe will be building 10 models in total: 5 will be trained on cleaned and lemmatized data, 5 will be trained on the raw text. Each of the 5 for those two training sets will vary by vector length: 25, 50, 100, 200, and 300.\")\n",
    "# execfile('fasttext_models.py') - Does not work in python 3\n",
    "exec(open(\"./fasttext_models.py\").read())"
   ],
   "cell_type": "code",
   "metadata": {
    "tags": []
   },
   "execution_count": 4,
   "outputs": [
    {
     "output_type": "stream",
     "name": "stdout",
     "text": [
      "First thing's first, we need to make our models.\n",
      "We will be building 10 models in total: 5 will be trained on cleaned and lemmatized data, 5 will be trained on the raw text. Each of the 5 for those two training sets will vary by vector length: 25, 50, 100, 200, and 300.\n",
      "reviews_train.json loaded:\n",
      "   Id  HelpfulnessNumerator  HelpfulnessDenominator  Score  \\\n",
      "0   1                     1                       1      5   \n",
      "1   2                     0                       0      1   \n",
      "2   3                     1                       1      4   \n",
      "3   4                     3                       3      2   \n",
      "4   5                     0                       0      5   \n",
      "\n",
      "                 Summary                                               Text  \\\n",
      "0  Good Quality Dog Food  I have bought several of the Vitality canned d...   \n",
      "1      Not as Advertised  Product arrived labeled as Jumbo Salted Peanut...   \n",
      "2  \"Delight\" says it all  This is a confection that has been around a fe...   \n",
      "3         Cough Medicine  If you are looking for the secret ingredient i...   \n",
      "4            Great taffy  Great taffy at a great price.  There was a wid...   \n",
      "\n",
      "                                               clean  \n",
      "0  buy several vitality can dog food product find...  \n",
      "1  product arrive label jumbo salt peanut peanut ...  \n",
      "2  confection around century light pillowy citrus...  \n",
      "3  look secret ingredient robitussin believe find...  \n",
      "4  great taffy great price wide assortment yummy ...  \n",
      "format()\n",
      "\n",
      "Preprocessing the data:\n",
      "Preprocessed cleaned data:\n",
      "__label__5 buy several vitality can dog food product find good quality product look like stew process meat smell well labrador finicky appreciate product well\n",
      "__label__1 product arrive label jumbo salt peanut peanut actually small sized unsalted sure error vendor intend represent product jumbo\n",
      "__label__4 confection around century light pillowy citrus gelatin nuts case filbert cut tiny square liberally coat powdered sugar tiny mouthful heaven chewy flavorful highly recommend yummy treat familiar \n",
      "unclean format()\n",
      "Preprocessed uncleaned data:\n",
      "__label__5 I have bought several of the Vitality canned dog food products and have found them all to be of good quality. The product looks more like a stew than a processed meat and it smells better. My Labrador is finicky and she appreciates this product better than  most.\n",
      "__label__1 \"Product arrived labeled as Jumbo Salted Peanuts...the peanuts were actually small sized unsalted. Not sure if this was an error or if the vendor intended to represent the product as \"\"Jumbo\"\".\"\n",
      "__label__4 \"This is\n",
      "Making tests\n",
      "Tests made.\n",
      "mc0: classifier trained on clean reviews, 10 epochs, vector-size 25.\n"
     ]
    },
    {
     "output_type": "error",
     "ename": "ValueError",
     "evalue": "reviews_cleaned.train cannot be opened for training!",
     "traceback": [
      "\u001b[0;31m---------------------------------------------------------------------------\u001b[0m",
      "\u001b[0;31mValueError\u001b[0m                                Traceback (most recent call last)",
      "\u001b[0;32m<ipython-input-4-350d3392f4b7>\u001b[0m in \u001b[0;36m<module>\u001b[0;34m\u001b[0m\n\u001b[1;32m      6\u001b[0m \u001b[0mprint\u001b[0m\u001b[0;34m(\u001b[0m\u001b[0;34m\"First thing's first, we need to make our models.\\nWe will be building 10 models in total: 5 will be trained on cleaned and lemmatized data, 5 will be trained on the raw text. Each of the 5 for those two training sets will vary by vector length: 25, 50, 100, 200, and 300.\"\u001b[0m\u001b[0;34m)\u001b[0m\u001b[0;34m\u001b[0m\u001b[0;34m\u001b[0m\u001b[0m\n\u001b[1;32m      7\u001b[0m \u001b[0;31m# execfile('fasttext_models.py') - Does not work in python 3\u001b[0m\u001b[0;34m\u001b[0m\u001b[0;34m\u001b[0m\u001b[0;34m\u001b[0m\u001b[0m\n\u001b[0;32m----> 8\u001b[0;31m \u001b[0mexec\u001b[0m\u001b[0;34m(\u001b[0m\u001b[0mopen\u001b[0m\u001b[0;34m(\u001b[0m\u001b[0;34m\"./fasttext_models.py\"\u001b[0m\u001b[0;34m)\u001b[0m\u001b[0;34m.\u001b[0m\u001b[0mread\u001b[0m\u001b[0;34m(\u001b[0m\u001b[0;34m)\u001b[0m\u001b[0;34m)\u001b[0m\u001b[0;34m\u001b[0m\u001b[0;34m\u001b[0m\u001b[0m\n\u001b[0m",
      "\u001b[0;32m<string>\u001b[0m in \u001b[0;36m<module>\u001b[0;34m\u001b[0m\n",
      "\u001b[0;32m<string>\u001b[0m in \u001b[0;36mmain\u001b[0;34m()\u001b[0m\n",
      "\u001b[0;32m~/.local/lib/python3.8/site-packages/fasttext/FastText.py\u001b[0m in \u001b[0;36mtrain_supervised\u001b[0;34m(*kargs, **kwargs)\u001b[0m\n\u001b[1;32m    526\u001b[0m     \u001b[0ma\u001b[0m \u001b[0;34m=\u001b[0m \u001b[0m_build_args\u001b[0m\u001b[0;34m(\u001b[0m\u001b[0margs\u001b[0m\u001b[0;34m,\u001b[0m \u001b[0mmanually_set_args\u001b[0m\u001b[0;34m)\u001b[0m\u001b[0;34m\u001b[0m\u001b[0;34m\u001b[0m\u001b[0m\n\u001b[1;32m    527\u001b[0m     \u001b[0mft\u001b[0m \u001b[0;34m=\u001b[0m \u001b[0m_FastText\u001b[0m\u001b[0;34m(\u001b[0m\u001b[0margs\u001b[0m\u001b[0;34m=\u001b[0m\u001b[0ma\u001b[0m\u001b[0;34m)\u001b[0m\u001b[0;34m\u001b[0m\u001b[0;34m\u001b[0m\u001b[0m\n\u001b[0;32m--> 528\u001b[0;31m     \u001b[0mfasttext\u001b[0m\u001b[0;34m.\u001b[0m\u001b[0mtrain\u001b[0m\u001b[0;34m(\u001b[0m\u001b[0mft\u001b[0m\u001b[0;34m.\u001b[0m\u001b[0mf\u001b[0m\u001b[0;34m,\u001b[0m \u001b[0ma\u001b[0m\u001b[0;34m)\u001b[0m\u001b[0;34m\u001b[0m\u001b[0;34m\u001b[0m\u001b[0m\n\u001b[0m\u001b[1;32m    529\u001b[0m     \u001b[0mft\u001b[0m\u001b[0;34m.\u001b[0m\u001b[0mset_args\u001b[0m\u001b[0;34m(\u001b[0m\u001b[0mft\u001b[0m\u001b[0;34m.\u001b[0m\u001b[0mf\u001b[0m\u001b[0;34m.\u001b[0m\u001b[0mgetArgs\u001b[0m\u001b[0;34m(\u001b[0m\u001b[0;34m)\u001b[0m\u001b[0;34m)\u001b[0m\u001b[0;34m\u001b[0m\u001b[0;34m\u001b[0m\u001b[0m\n\u001b[1;32m    530\u001b[0m     \u001b[0;32mreturn\u001b[0m \u001b[0mft\u001b[0m\u001b[0;34m\u001b[0m\u001b[0;34m\u001b[0m\u001b[0m\n",
      "\u001b[0;31mValueError\u001b[0m: reviews_cleaned.train cannot be opened for training!"
     ]
    }
   ]
  },
  {
   "cell_type": "code",
   "execution_count": 29,
   "metadata": {},
   "outputs": [
    {
     "output_type": "stream",
     "name": "stdout",
     "text": [
      "\nHere are the top 50 words for the model trained on cleaned data with D100:\n['>', '<', 'br', '</s>', 'like', 'good', 'taste', 'flavor', 'one', 'get', 'love', 'product', 'make', 'use', 'coffee', 'great', 'try', 'well', 'food', 'buy', 'tea', 'find', 'would', 'eat', 'dog', 'go', 'really', 'time', 'much', 'amazon', 'order', 'also', 'price', 'bag', 'cup', 'give', 'little', 'even', 'drink', 'say', 'think', 'store', 'day', 'cat', 'add', 'box', 'chocolate', 'treat', 'come', 'first']\n\nHere are the top 50 words for the model trained on uncleaned data with D100:\n['the', 'I', 'and', 'a', 'to', 'of', 'is', 'it', '</s>', 'for', 'in', 'this', 'that', 'my', 'with', 'have', 'but', 'are', 'was', 'not', 'you', '/><br', 'on', 'as', 'like', 'they', 'so', 'be', 'The', 'or', 'at', 'these', 'just', 'them', 'very', 'from', 'one', 'good', 'It', '\"I', 'has', 'can', 'taste', 'will', 'would', 'had', 'all', 'more', 'than', 'when']\n"
     ]
    }
   ],
   "source": [
    "# load the models for evaluation\n",
    "mc0 = fasttext.load_model('data/fasttext_skipgram_cleaned_D25.bin')\n",
    "mc1 = fasttext.load_model('data/fasttext_skipgram_cleaned_D50.bin')\n",
    "mc2 = fasttext.load_model('data/fasttext_skipgram_cleaned_D100.bin')\n",
    "mc3 = fasttext.load_model('data/fasttext_skipgram_cleaned_D200.bin')\n",
    "mc4 = fasttext.load_model('data/fasttext_skipgram_cleaned_D300.bin')\n",
    "\n",
    "mu0 = fasttext.load_model('data/fasttext_skipgram_uncleaned_D25.bin')\n",
    "mu1 = fasttext.load_model('data/fasttext_skipgram_uncleaned_D50.bin')\n",
    "mu2 = fasttext.load_model('data/fasttext_skipgram_uncleaned_D100.bin')\n",
    "mu3 = fasttext.load_model('data/fasttext_skipgram_uncleaned_D200.bin')\n",
    "mu4 = fasttext.load_model('data/fasttext_skipgram_uncleaned_D300.bin')\n",
    "\n",
    "print(\"\\nHere are the top 50 words for the model trained on cleaned data with D100:\")\n",
    "mc2_words = mc4.get_words()\n",
    "print(mc2_words[:50])\n",
    "print(\"\\nHere are the top 50 words for the model trained on uncleaned data with D100:\")\n",
    "mu2_words = mu2.get_words()\n",
    "print(mu2_words[:50])"
   ]
  },
  {
   "cell_type": "code",
   "execution_count": 30,
   "metadata": {},
   "outputs": [
    {
     "output_type": "stream",
     "name": "stdout",
     "text": [
      "We can measure the accuracy of these classfiers by examining their precision and recall when running on a test set.\n",
      "We will continue to use mc2 and mu2, the models trained with dim=100 on cleaned and uncleaned data respectively.\n",
      "The fasttext test() function will calculate the precision and recall \"at k\" for our models. Note that these are not the usual definitions of precision and recall used in most discussion about binary classifiers. More precisely precision at k is:\n",
      "      P@k = r / k,\n",
      "      the # of relevant labels r divided by the number of top predictions k.\n",
      "The k value determines how many of the top predictions we consider, e.g. do we want to evaluate just the label with the highest rank outputted by the model (k=1), or the top 3 labels (k=3)?\n",
      "Further, prec@1 will either be 1 or 0 in each test case, because the top guess either is or is not the relevant label.\n",
      "For our purposes, just considering precision and recall at 1 makes sense, because there is only one label we care about: the correct one. When k>1, our models can only get a value of either 1/k or 0 in each test case, making them seem less accurate than they are.\n",
      "It is not explicitly stated in the fasttext documentation, but it is reasonable to say that P@1 will give the same output as we would get using the sci kit library's tools.\n",
      "Specifically, it gives the same results as sklearn.metrics.precision_score() with parameter 'average' set to 'micro' would. This means that fasttext.test() is calculating metrics globally by counting the total true positives, false negatives and false positives across all the labels and producing one number for the precision and recall score. Unfortunately, there seems to be no way to change this calculation beyond varying the k value.\n",
      "Now, to calculate accuracy for comparision with our other models (with different embeddings), we\n",
      "       Model       N  Precision  Recall\n",
      "0    Cleaned  113691        0.2     1.0\n",
      "1  Uncleaned  113691        0.2     1.0\n",
      "       Model       N  Precision    Recall\n",
      "0    Cleaned  113691   0.428068  0.856136\n",
      "1  Uncleaned  113691   0.426547  0.853093\n",
      "       Model       N  Precision    Recall\n",
      "0    Cleaned  113691   0.695183  0.695183\n",
      "1  Uncleaned  113691   0.686739  0.686739\n",
      "       Model       N  Precision    Recall\n",
      "0    Cleaned  113691   0.695183  0.695183\n",
      "1  Uncleaned  113691   0.686739  0.686739\n",
      "\n",
      "Though the two models are different, they have both have equal precision and recall. I believe this is because each doc has only one possible label.\n",
      "\n",
      "Therefore, the accuracy of these models is equivalent to their recall and precision. (Partners confirm this pls)\n",
      "\n"
     ]
    }
   ],
   "source": [
    "print(\"We can measure the accuracy of these classfiers by examining their precision and recall when running on a test set.\\nWe will continue to use mc2 and mu2, the models trained with dim=100 on cleaned and uncleaned data respectively.\")\n",
    "print(\"The fasttext test() function will calculate the precision and recall \\\"at k\\\" for our models. Note that these are not the usual definitions of precision and recall used in most discussion about binary classifiers. More precisely precision at k is:\\n      P@k = r / k,\\n      the # of relevant labels r divided by the number of top predictions k.\")\n",
    "print(\"The k value determines how many of the top predictions we consider, e.g. do we want to evaluate just the label with the highest rank outputted by the model (k=1), or the top 3 labels (k=3)?\\nFurther, prec@1 will either be 1 or 0 in each test case, because the top guess either is or is not the relevant label.\\nFor our purposes, just considering precision and recall at 1 makes sense, because there is only one label we care about: the correct one. When k>1, our models can only get a value of either 1/k or 0 in each test case, making them seem less accurate than they are.\\nIt is not explicitly stated in the fasttext documentation, but it is reasonable to say that P@1 will give the same output as we would get using the sci kit library's tools.\\nSpecifically, it gives the same results as sklearn.metrics.precision_score() with parameter 'average' set to 'micro' would. This means that fasttext.test() is calculating metrics globally by counting the total true positives, false negatives and false positives across all the labels and producing one number for the precision and recall score. Unfortunately, there seems to be no way to change this calculation beyond varying the k value.\")\n",
    "print(\"Now, to calculate accuracy for comparision with our other models (with different embeddings), we\")\n",
    "\n",
    "\n",
    "n0,p0,r0 = mc2.test('reviews_cleaned.test', k=5)\n",
    "n1,p1,r1 = mu2.test('reviews_uncleaned.test', k=5)\n",
    "d = {'Model':['Cleaned', 'Uncleaned'], 'N':[n0,n1], 'Precision':[p0,p1],'Recall':[r0,r1]}\n",
    "df = pd.DataFrame(data=d)\n",
    "print(df)\n",
    "\n",
    "n0,p0,r0 = mc2.test('reviews_cleaned.test', k=2)\n",
    "n1,p1,r1 = mu2.test('reviews_uncleaned.test', k=2)\n",
    "d = {'Model':['Cleaned', 'Uncleaned'], 'N':[n0,n1], 'Precision':[p0,p1],'Recall':[r0,r1]}\n",
    "df = pd.DataFrame(data=d)\n",
    "print(df)\n",
    "\n",
    "n0,p0,r0 = mc2.test('reviews_cleaned.test', k=1)\n",
    "n1,p1,r1 = mu2.test('reviews_uncleaned.test', k=1)\n",
    "d = {'Model':['Cleaned', 'Uncleaned'], 'N':[n0,n1], 'Precision':[p0,p1],'Recall':[r0,r1]}\n",
    "df = pd.DataFrame(data=d)\n",
    "print(df)\n",
    "\n",
    "n0,p0,r0 = mc2.test('reviews_cleaned.test')\n",
    "n1,p1,r1 = mu2.test('reviews_uncleaned.test')\n",
    "d = {'Model':['Cleaned', 'Uncleaned'], 'N':[n0,n1], 'Precision':[p0,p1],'Recall':[r0,r1]}\n",
    "df = pd.DataFrame(data=d)\n",
    "print(df)\n",
    "\n",
    "print(\"\\nThough the two models are different, they have both have equal precision and recall. I believe this is because each doc has only one possible label.\")\n",
    "\n",
    "print(\"\\nTherefore, the accuracy of these models is equivalent to their recall and precision. (Partners confirm this pls)\\n\")"
   ]
  },
  {
   "cell_type": "code",
   "execution_count": 31,
   "metadata": {},
   "outputs": [
    {
     "output_type": "stream",
     "name": "stdout",
     "text": [
      "Now let's take a look at some of the vector embeddings.\nLet's look at the vector for \"chocolate\" in the cleaned-data model:\n\n[ 8.92456621e-02 -9.63591859e-02  5.99380285e-02  9.64247733e-02\n  4.60756496e-02 -6.81003854e-02  6.64454475e-02  1.67603754e-02\n -6.05224706e-02  9.76952687e-02 -1.69180539e-02  6.51830062e-02\n  1.29161635e-03  1.36304225e-04  3.21914777e-02 -3.85867171e-02\n  6.38445616e-02  1.40688255e-01  2.88648601e-03  2.83443537e-02\n  2.13524718e-02  3.63133550e-02 -2.01489497e-02 -7.10156709e-02\n -1.24792894e-02  1.49864722e-02  8.00867677e-02 -1.40068531e-02\n  3.85700725e-02 -2.26944825e-03 -6.20292835e-02 -2.59185918e-02\n -1.35131320e-02  6.95468113e-02  5.18812127e-02  3.57772559e-02\n  4.59828749e-02  5.87178767e-02 -2.27381978e-02 -5.41094132e-02\n  2.19275672e-02  7.17993453e-02 -2.78918557e-02 -1.29705947e-02\n  2.38936301e-02 -1.34344334e-02  2.18468644e-02 -6.45970851e-02\n -5.87611576e-04 -2.17915699e-02  2.19032820e-02 -1.86101273e-02\n  6.49569137e-03  1.41359083e-02 -2.28074528e-02 -1.89664457e-02\n  5.08411787e-02  2.56009810e-02 -3.15313749e-02  2.36414615e-02\n -2.30602883e-02  1.66176930e-02 -3.63578973e-03 -2.24572010e-02\n -4.16073985e-02  5.74653372e-02 -3.18856840e-03  1.41320156e-03\n -3.78961898e-02 -3.86958160e-02 -2.32257927e-03 -4.84780744e-02\n  1.93021656e-03  2.00633220e-02 -2.53687575e-02 -1.86785683e-02\n  1.16084684e-02  2.00388636e-02 -8.66282824e-03 -8.69136453e-02\n  2.06416706e-03 -2.40539107e-02  7.49883056e-03 -1.37317330e-02\n -6.88207475e-03 -7.17276661e-03 -4.48430777e-02  3.34860794e-02\n  1.52588030e-02 -9.71953850e-03  1.93049163e-02  8.47478304e-03\n  4.72481549e-02  1.99117679e-02 -3.98130678e-02 -4.66201231e-02\n  1.33681495e-03  3.67856957e-03  2.35164296e-02  1.66657623e-02\n -5.49374186e-02  4.90111038e-02  2.04569194e-02 -2.51426585e-02\n -8.32560007e-03 -2.39005443e-02  1.90866552e-02  3.20264958e-02\n -4.28174511e-02 -8.74425396e-02  4.73400988e-02 -3.17134261e-02\n  7.65724899e-03  2.95482366e-03  9.47076455e-03  1.68182235e-02\n  4.62628119e-02 -1.86477997e-03  5.42288944e-02 -6.99925469e-03\n  4.52797189e-02 -5.70267253e-02 -7.99200684e-03 -4.04273160e-03\n -1.50177563e-02  1.12298410e-02  1.07672503e-02  1.16257593e-02\n -1.13335531e-02  1.38419960e-02 -2.76189763e-02 -7.42742606e-03\n  1.63106639e-02  2.97815502e-02  2.44620983e-02 -9.14575253e-03\n -1.27282972e-02  6.81344196e-02 -1.89430509e-02  3.65765877e-02\n  8.41787085e-03 -3.30849551e-02  2.06231754e-02 -2.10706447e-03\n  9.14500132e-02  1.24765456e-01  7.66097307e-02  8.59251246e-03\n -5.82853407e-02 -5.40460534e-02 -4.77699153e-02 -2.88581178e-02\n  8.27360526e-02  1.20538920e-01 -3.10989376e-02  2.27035098e-02\n -2.89640129e-02 -5.67098260e-02  2.28473879e-02 -5.81970438e-02\n  5.07069379e-02  6.25688210e-02 -3.28237340e-02 -4.27188575e-02\n -3.14775519e-02 -1.39463809e-03  4.39167628e-03  3.25556472e-02\n -4.24277037e-02  4.93787415e-03  2.41651246e-03  3.54620181e-02\n  4.20883447e-02 -6.98903576e-02 -1.20108919e-02  3.29814069e-02\n -6.17213398e-02  1.49839651e-02  3.73605080e-02  4.88707516e-03\n  1.54378926e-02 -7.48460926e-03 -1.58901904e-02 -1.38940159e-02\n  2.22168621e-02 -4.98393588e-02  6.83048228e-03  3.03172302e-02\n -1.15958015e-02 -6.30010292e-02 -1.73084866e-02 -7.64323352e-03\n -9.85890348e-03 -7.00218156e-02 -2.20922194e-02 -1.29113933e-02\n  4.05470245e-02 -2.08307449e-02 -5.66694811e-02 -6.71089143e-02\n  1.63177289e-02  2.86405981e-02 -3.12805995e-02  8.29902366e-02\n  6.46103173e-02  1.05872832e-01 -2.02631075e-02  5.75339533e-02\n -3.78543604e-03  5.67389317e-02 -6.08231984e-02 -4.82769236e-02\n  4.95703816e-02  7.35482480e-03  9.94550437e-02  1.68520100e-02\n  3.14484015e-02  1.24339322e-02  3.96550782e-02  4.91241775e-02\n -1.84014197e-02 -2.28471477e-02  3.45344134e-02 -3.82010010e-03\n  6.87842444e-02 -5.55417798e-02 -3.56476009e-02  1.05329804e-01\n  2.85857208e-02 -3.01269591e-02  2.36016829e-02  8.91538803e-03\n  2.32917964e-02  4.62615155e-02 -8.59308466e-02  3.34432535e-02\n -3.50920409e-02  7.55791664e-02 -3.89486253e-02  3.31413485e-02\n -3.43681537e-02  6.12805560e-02 -1.53192189e-02 -1.09547470e-02\n  6.60918206e-02  1.98926330e-02  4.72820215e-02  1.91566385e-02\n  9.10082553e-03  5.70695698e-02  3.34140211e-02 -1.94534790e-02\n -9.57634393e-03  3.19918804e-02 -1.28267124e-01  5.42643033e-02\n -4.83653788e-03  3.66522707e-02 -5.02695590e-02  2.80595496e-02\n  4.84456010e-02  3.14804725e-02  1.42560825e-01  4.43144068e-02\n -7.82007873e-02 -5.62338298e-03 -9.00831074e-02  2.52371002e-02\n -7.92387798e-02 -3.94451395e-02  2.56989878e-02 -7.79765844e-02\n -3.08439285e-02  3.68191227e-02  1.49111981e-02  1.12782530e-01\n  1.20992303e-01 -1.18070588e-01 -5.98095870e-03 -7.24363178e-02\n -1.67170800e-02 -1.58126522e-02 -5.13004363e-02  7.68198743e-02\n -3.09069350e-04  2.61970777e-02  4.83343974e-02  1.05674334e-01\n  4.24447469e-03  7.12140789e-03 -9.66183841e-02  7.32234567e-02\n  6.69954568e-02 -3.80752198e-02 -4.53334600e-02  4.89737932e-03\n -4.70994897e-02 -7.07547516e-02 -5.12375049e-02  7.09978212e-03]\n\nWe can also look at the most similar words, or the vector's 'neighbors.' These are determined by the cosine similarity of vectors.\n[(0.9132388830184937, 'flour'), (0.9063988327980042, 'brand'), (0.8846333622932434, 'simply'), (0.8683359622955322, 'blue'), (0.8664201498031616, 'order'), (0.8547735214233398, 'sit'), (0.849263072013855, 'review'), (0.847258985042572, 'coconut'), (0.8444997668266296, 'syrup'), (0.8434807062149048, 'worth')]\n\nFasttext also lets us try out analogies. Let's see how it does with the following:\n\n\"'hot' is to 'cold', what 'good' is to _____\"\n[(0.9401278495788574, 'really'), (0.9353967905044556, 'cook'), (0.9144654273986816, '100'), (0.9030431509017944, 'honey'), (0.8969824314117432, 'along'), (0.880876362323761, 'delivery'), (0.8769140839576721, 'rice'), (0.8653563857078552, 'also'), (0.8550899028778076, 'since'), (0.8422892689704895, 'sauce')]\n"
     ]
    }
   ],
   "source": [
    "print(\"Now let's take a look at some of the vector embeddings.\")\n",
    "print(\"Let's look at the vector for \\\"chocolate\\\" in the cleaned-data model:\\n\")\n",
    "print(mc2.get_word_vector('chocolate'))\n",
    "print(\"\\nWe can also look at the most similar words, or the vector's 'neighbors.' These are determined by the cosine similarity of vectors.\")\n",
    "print(mc2.get_nearest_neighbors('chocolate'))\n",
    "\n",
    "print(\"\\nFasttext also lets us try out analogies. Let's see how it does with the following:\")\n",
    "print(\"\\n\\\"\\'hot\\' is to \\'cold\\', what \\'good\\' is to _____\\\"\")\n",
    "print(mc2.get_analogies('hot','cold','good'))"
   ]
  },
  {
   "cell_type": "code",
   "execution_count": 69,
   "metadata": {
    "tags": []
   },
   "outputs": [
    {
     "output_type": "stream",
     "name": "stdout",
     "text": [
      "Accuracy of classifier with dim=50 and trained on cleaned data:\n",
      "0.5940399855749355\n",
      "563\n",
      "563\n",
      "(('__label__5',), array([0.74742788]))\n"
     ]
    }
   ],
   "source": [
    "# Get Accuracy\n",
    "import get_accuracy\n",
    "\n",
    "\n",
    "'''\n",
    "  FINALLY!\n",
    "  This may have been unecessarily complicated, but now we can compute accuracy with get_accuracy()!\n",
    "'''\n",
    "print(\"Accuracy of classifier with dim=50 and trained on cleaned data:\")\n",
    "print(get_accuracy.get_accuracy(mc1))\n",
    "\n",
    "print(len(mc2.words))\n",
    "print(len(mc2.words))\n",
    "\n",
    "print(mc2.predict(\"Apples and Bananas\"))\n",
    "\n",
    "# maybe here we can try out some vector addition/subtraction to see what kind of meaning the model captures. "
   ]
  }
 ]
}