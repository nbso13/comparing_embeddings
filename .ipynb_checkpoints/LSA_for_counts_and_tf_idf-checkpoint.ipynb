{
 "cells": [
  {
   "cell_type": "code",
   "execution_count": 1,
   "metadata": {},
   "outputs": [],
   "source": [
    "import json\n",
    "import re\n",
    "import numpy as np\n",
    "import matplotlib.pyplot as plt\n",
    "import string\n",
    "from collections import Counter\n",
    "from scipy.sparse import csr_matrix\n",
    "from sklearn.feature_extraction.text import CountVectorizer\n",
    "from sklearn.decomposition import TruncatedSVD\n",
    "import seaborn as sns\n",
    "from sklearn.metrics import confusion_matrix\n",
    "from sklearn.linear_model import LinearRegression\n",
    "from sklearn.feature_extraction.text import TfidfTransformer"
   ]
  },
  {
   "cell_type": "code",
   "execution_count": 2,
   "metadata": {},
   "outputs": [],
   "source": [
    "#read json file\n",
    "reviews=[]\n",
    "with open('reviews.json') as f:\n",
    "    for line in f:\n",
    "        reviews.append(json.loads(line))\n",
    "reviews = reviews[0]\n",
    "\n",
    "#make a list of the reviews\n",
    "review_num = len(reviews['Id'])\n",
    "corpus = list()\n",
    "labels = list()\n",
    "for i in range(review_num):\n",
    "    corpus.append(reviews['clean'][str(i)])\n",
    "    labels.append(reviews['Score'][str(i)])\n",
    "    \n",
    "stop_words = ['<', '>', 'br']"
   ]
  },
  {
   "cell_type": "code",
   "execution_count": 3,
   "metadata": {},
   "outputs": [],
   "source": [
    "#def functions\n",
    "\n",
    "def svd(data_mat, components):\n",
    "    svd = TruncatedSVD(n_components=components, n_iter=10)\n",
    "    svd_mat = svd.fit_transform(data_mat)\n",
    "    y = np.zeros([components])\n",
    "    total = 0\n",
    "    count = 0\n",
    "    for i in svd.explained_variance_ratio_:\n",
    "        y[count] = i + total\n",
    "        count = count + 1\n",
    "        total = total + i\n",
    "    plt.figure()\n",
    "    plt.scatter(range(components), y)\n",
    "    plt.title(\"Percent Variance Explained\")\n",
    "    return svd_mat\n",
    "\n",
    "def split_into_test_and_train(data_mat, labels, training_ind):\n",
    "    #separate into testing and training\n",
    "    training = data_mat[0:training_ind]\n",
    "    training_labels = labels[0:training_ind]\n",
    "    testing = data_mat[training_ind+1:review_num-1]\n",
    "    testing_labels = labels[training_ind+1:review_num-1]\n",
    "    print(\"checking train and test shapes\")\n",
    "    print(training.shape)\n",
    "    print(len(training_labels))\n",
    "    print(testing.shape)\n",
    "    print(len(testing_labels))\n",
    "    return training, training_labels, testing, testing_labels\n",
    "\n",
    "def train_lin_reg(training_data, train_labels, testing_data, test_labels):\n",
    "    reg = LinearRegression()\n",
    "    reg.fit(training_data, train_labels)\n",
    "    predictions = reg.predict(testing_data)\n",
    "    predictions = np.array(predictions)\n",
    "    predictions[predictions<1] = 1\n",
    "    predictions[predictions>5] = 5\n",
    "    predictions_rounded = np.round(predictions)\n",
    "    predictions_rounded = predictions_rounded.astype(int)\n",
    "    return predictions_rounded, predictions\n",
    "\n",
    "def show_accuracy(test_labels, preds_rounded):\n",
    "    testing_labels_arr = np.array(test_labels)\n",
    "    correct = sum((testing_labels_arr == preds_rounded))\n",
    "    acc = correct/len(testing_labels_arr)\n",
    "    print(\"Accuracy: \" + str(acc))\n",
    "    np.random.shuffle(testing_labels_arr)\n",
    "    correct_random = sum((testing_labels_arr == preds_rounded))\n",
    "    print(\"Random Accuracy: \" + str(correct_random/len(testing_labels_arr)))\n",
    "    return acc\n",
    "    \n",
    "def mean_sq_error(preds, test_labels):\n",
    "    mse_sum = 0\n",
    "    for i in range(review_num-training_ind-2):\n",
    "        error_sq = (preds[i]-test_labels[i])*(preds[i]-test_labels[i])\n",
    "        mse_sum+=error_sq\n",
    "    mse = mse_sum/review_num\n",
    "    return mse\n"
   ]
  },
  {
   "cell_type": "code",
   "execution_count": 4,
   "metadata": {},
   "outputs": [
    {
     "name": "stdout",
     "output_type": "stream",
     "text": [
      "Len vocab\n",
      "607\n"
     ]
    }
   ],
   "source": [
    "# count vectorize\n",
    "vectorizer = CountVectorizer(stop_words=stop_words, ngram_range=(1, 1), max_df=0.99, min_df=0.01)\n",
    "X = vectorizer.fit_transform(corpus)\n",
    "vocab = vectorizer.get_feature_names()\n",
    "spar_mat_count = csr_matrix(X.toarray())\n",
    "print(\"Len vocab\")\n",
    "print(len(vocab))\n",
    "\n",
    "# td idf\n",
    "trans = TfidfTransformer()\n",
    "X_tf = trans.fit_transform(X)\n",
    "spar_mat_tf = csr_matrix(X_tf.toarray())"
   ]
  },
  {
   "cell_type": "code",
   "execution_count": 5,
   "metadata": {},
   "outputs": [
    {
     "name": "stdout",
     "output_type": "stream",
     "text": [
      "checking train and test shapes\n",
      "(500000, 100)\n",
      "500000\n",
      "(68452, 100)\n",
      "68452\n",
      "Accuracy: 0.3363670893472798\n",
      "Random Accuracy: 0.2679103605446152\n",
      "mean squared error: 0.15754889828389756\n",
      "checking train and test shapes\n",
      "(500000, 100)\n",
      "500000\n",
      "(68452, 100)\n",
      "68452\n",
      "Accuracy: 0.3997691813241395\n",
      "Random Accuracy: 0.2971279144510022\n",
      "mean squared error: 0.14130194330347448\n"
     ]
    },
    {
     "data": {
      "image/png": "[encoded data removed]",
      "text/plain": [
       "<Figure size 432x288 with 1 Axes>"
      ]
     },
     "metadata": {
      "needs_background": "light"
     },
     "output_type": "display_data"
    },
    {
     "data": {
      "image/png": "[encoded data removed]",
      "text/plain": [
       "<Figure size 432x288 with 1 Axes>"
      ]
     },
     "metadata": {
      "needs_background": "light"
     },
     "output_type": "display_data"
    }
   ],
   "source": [
    "# process \n",
    "training_ind = 500000\n",
    "components_num = 50\n",
    "models = [spar_mat_count, spar_mat_tf]\n",
    "name = [\"Count vectorizer\", \"tf-idf vectors\"]\n",
    "for i in range(len(models)):\n",
    "    print(name[i])\n",
    "    svd_mat = svd(models[i], components_num)\n",
    "    train, train_labs, test, test_labs = split_into_test_and_train(svd_mat, labels, training_ind)\n",
    "    predictions_rounded, predictions = train_lin_reg(train, train_labs, test, test_labs)\n",
    "    show_accuracy(test_labs, predictions_rounded)\n",
    "    print(\"mean squared error: \" + str(mean_sq_error(predictions, test_labs)))"
   ]
  }
 ],
 "metadata": {
  "kernelspec": {
   "display_name": "Python 3",
   "language": "python",
   "name": "python3"
  },
  "language_info": {
   "codemirror_mode": {
    "name": "ipython",
    "version": 3
   },
   "file_extension": ".py",
   "mimetype": "text/x-python",
   "name": "python",
   "nbconvert_exporter": "python",
   "pygments_lexer": "ipython3",
   "version": "3.7.9"
  }
 },
 "nbformat": 4,
 "nbformat_minor": 4
}
