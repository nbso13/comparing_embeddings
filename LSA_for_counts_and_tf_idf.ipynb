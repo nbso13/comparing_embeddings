{
 "cells": [
  {
   "cell_type": "code",
   "execution_count": 37,
   "metadata": {},
   "outputs": [],
   "source": [
    "import json\n",
    "import re\n",
    "import numpy as np\n",
    "import matplotlib.pyplot as plt\n",
    "import string\n",
    "from collections import Counter\n",
    "from scipy.sparse import csr_matrix\n",
    "from sklearn.feature_extraction.text import CountVectorizer\n",
    "from sklearn.decomposition import TruncatedSVD\n",
    "import seaborn as sns\n",
    "from sklearn.metrics import confusion_matrix\n",
    "from sklearn.linear_model import LinearRegression\n",
    "from sklearn.feature_extraction.text import TfidfTransformer\n",
    "from sklearn.metrics import mean_squared_error\n",
    "import math\n",
    "\n",
    "from sklearn.metrics import confusion_matrix\n",
    "from sklearn.metrics import ConfusionMatrixDisplay\n",
    "from sklearn.metrics import precision_score\n",
    "from sklearn.metrics import recall_score"
   ]
  },
  {
   "cell_type": "code",
   "execution_count": 4,
   "metadata": {},
   "outputs": [],
   "source": [
    "#read json file\n",
    "reviews=[]\n",
    "with open('reviews.json') as f:\n",
    "    for line in f:\n",
    "        reviews.append(json.loads(line))\n",
    "reviews = reviews[0]\n",
    "\n",
    "#make a list of the reviews\n",
    "review_num = len(reviews['Id'])\n",
    "corpus = list()\n",
    "labels = list()\n",
    "for i in range(review_num):\n",
    "    corpus.append(reviews['clean'][str(i)])\n",
    "    labels.append(reviews['Score'][str(i)])\n",
    "    \n",
    "stop_words = ['<', '>', 'br']"
   ]
  },
  {
   "cell_type": "code",
   "execution_count": 42,
   "metadata": {},
   "outputs": [],
   "source": [
    "#def functions\n",
    "\n",
    "def svd(data_mat, components):\n",
    "    svd = TruncatedSVD(n_components=components, n_iter=10)\n",
    "    svd_mat = svd.fit_transform(data_mat)\n",
    "    y = np.zeros([components])\n",
    "    total = 0\n",
    "    count = 0\n",
    "    for i in svd.explained_variance_ratio_:\n",
    "        y[count] = i + total\n",
    "        count = count + 1\n",
    "        total = total + i\n",
    "    plt.figure()\n",
    "    plt.scatter(range(components), y)\n",
    "    plt.title(\"Percent Variance Explained\")\n",
    "    return svd_mat\n",
    "\n",
    "def split_into_test_and_train(data_mat, labels, training_ind):\n",
    "    #separate into testing and training\n",
    "    training = data_mat[0:training_ind]\n",
    "    training_labels = labels[0:training_ind]\n",
    "    testing = data_mat[training_ind+1:review_num-1]\n",
    "    testing_labels = labels[training_ind+1:review_num-1]\n",
    "#     print(\"checking train and test shapes\")\n",
    "#     print(training.shape)\n",
    "#     print(len(training_labels))\n",
    "#     print(testing.shape)\n",
    "#     print(len(testing_labels))\n",
    "    return training, training_labels, testing, testing_labels\n",
    "\n",
    "def train_lin_reg(training_data, train_labels, testing_data, test_labels):\n",
    "    reg = LinearRegression()\n",
    "    reg.fit(training_data, train_labels)\n",
    "    predictions = reg.predict(testing_data)\n",
    "    predictions = np.array(predictions)\n",
    "    predictions[predictions<1] = 1\n",
    "    predictions[predictions>5] = 5\n",
    "    predictions_rounded = np.round(predictions)\n",
    "    predictions_rounded = predictions_rounded.astype(int)\n",
    "    return predictions_rounded, predictions\n",
    "\n",
    "def show_accuracy(test_labels, preds_rounded):\n",
    "    testing_labels_arr = np.array(test_labels)\n",
    "    correct = sum((testing_labels_arr == preds_rounded))\n",
    "    acc = correct/len(testing_labels_arr)\n",
    "    print(\"Accuracy: \" + str(acc))\n",
    "    np.random.shuffle(testing_labels_arr)\n",
    "    correct_random = sum((testing_labels_arr == preds_rounded))\n",
    "    print(\"Random Accuracy: \" + str(correct_random/len(testing_labels_arr)))\n",
    "    return acc\n",
    "    \n",
    "def root_mean_sq_error(preds, test_labels):\n",
    "    rmse = mean_squared_error(test_labels, preds, squared=False)\n",
    "    return rmse\n"
   ]
  },
  {
   "cell_type": "code",
   "execution_count": 6,
   "metadata": {},
   "outputs": [
    {
     "name": "stdout",
     "output_type": "stream",
     "text": [
      "Len vocab\n",
      "607\n"
     ]
    }
   ],
   "source": [
    "# count vectorize\n",
    "vectorizer = CountVectorizer(stop_words=stop_words, ngram_range=(1, 1), max_df=0.99, min_df=0.01)\n",
    "X = vectorizer.fit_transform(corpus)\n",
    "vocab = vectorizer.get_feature_names()\n",
    "spar_mat_count = csr_matrix(X.toarray())\n",
    "print(\"Len vocab\")\n",
    "print(len(vocab))\n",
    "\n",
    "# td idf\n",
    "trans = TfidfTransformer()\n",
    "X_tf = trans.fit_transform(X)\n",
    "spar_mat_tf = csr_matrix(X_tf.toarray())"
   ]
  },
  {
   "cell_type": "code",
   "execution_count": null,
   "metadata": {},
   "outputs": [
    {
     "name": "stdout",
     "output_type": "stream",
     "text": [
      "Count vectorizer\n",
      "dimensions: 25\n",
      "root mean squared error: 1.199743441446051\n",
      "\n",
      "\n",
      "tf-idf vectors\n",
      "dimensions: 25\n",
      "root mean squared error: 1.1677467540638695\n",
      "\n",
      "\n",
      "Count vectorizer\n",
      "dimensions: 50\n",
      "root mean squared error: 1.1815804787832536\n",
      "\n",
      "\n",
      "tf-idf vectors\n",
      "dimensions: 50\n",
      "root mean squared error: 1.119977583878152\n",
      "\n",
      "\n",
      "Count vectorizer\n",
      "dimensions: 100\n"
     ]
    }
   ],
   "source": [
    "# process \n",
    "\n",
    "\n",
    "# components = [25, 50, 100, 200, 300]\n",
    "# precisions = np.zeros([2, len(components_num)])\n",
    "# recalls = np.zeros([2, len(components_num)])\n",
    "# rmses = np.zeros([2, len(components_num)])\n",
    "# accuracies = np.zeros([2, len(components_num)])\n",
    "# confusion_mats = [list(), list()]\n",
    "\n",
    "# scores = {\"precisions\":precisions, \n",
    "#           \"recalls\": recalls, \n",
    "#           \"rmses\":rmses,\n",
    "#           \"accuracies\": accuracies,\n",
    "#           \"confusion_mats\": confusion_mats\n",
    "#          }\n",
    "\n",
    "cm_labels = ['1', '2', '3', '4', '5']\n",
    "scores[\"predictions_rounded\"] = [list(), list()]\n",
    "\n",
    "for j in range(len(components)):\n",
    "    training_ind = 500000\n",
    "    models = [spar_mat_count, spar_mat_tf]\n",
    "    name = [\"Count vectorizer\", \"tf-idf vectors\"]\n",
    "    for i in range(len(models)):\n",
    "        print(name[i])\n",
    "        print(\"dimensions: \" +  str(components[j]))\n",
    "        svd_mat = svd(models[i], components[j])\n",
    "        train, train_labs, test, test_labs = split_into_test_and_train(svd_mat, labels, training_ind)\n",
    "        predictions_rounded, predictions = train_lin_reg(train, train_labs, test, test_labs)\n",
    "        scores[\"predictions_rounded\"][i].append(predictions_rounded)\n",
    "#         acc = show_accuracy(test_labs, predictions_rounded)\n",
    "#         cm = confusion_matrix(test_labs, predictions_rounded)\n",
    "#         disp = ConfusionMatrixDisplay(cm, display_labels = cm_labels)\n",
    "#         precision = precision_score(test_labs, predictions_rounded, average = None)\n",
    "#         print('Precision2: %.3f' % np.mean(precision))\n",
    "#         recall = recall_score(test_labs, predictions_rounded, average = None)\n",
    "#         print('Recall2: %.3f' % np.mean(recall))\n",
    "        rmse = root_mean_sq_error(predictions, test_labs)\n",
    "        print(\"root mean squared error: \" + str(rmse))\n",
    "        print(\"\\n\")\n",
    "#         scores[\"recalls\"][i,j] = np.mean(recall)\n",
    "#         scores[\"precisions\"][i,j] = np.mean(precision)\n",
    "#         scores[\"accuracies\"][i,j] = acc\n",
    "        scores[\"rmses\"][i,j] =  rmse\n",
    "#         scores[\"confusion_mats\"][i].append(disp)\n",
    "        \n",
    "              \n",
    "              \n",
    "              "
   ]
  },
  {
   "cell_type": "code",
   "execution_count": 14,
   "metadata": {},
   "outputs": [
    {
     "data": {
      "text/plain": [
       "20292"
      ]
     },
     "execution_count": 14,
     "metadata": {},
     "output_type": "execute_result"
    }
   ],
   "source": [
    "np.sum(np.diag(cm))"
   ]
  },
  {
   "cell_type": "code",
   "execution_count": 31,
   "metadata": {},
   "outputs": [
    {
     "data": {
      "text/plain": [
       "{'precisions': array([[0.31933856, 0.32480914, 0.33611268, 0.3656678 , 0.37059046],\n",
       "        [0.25684779, 0.26891377, 0.47163637, 0.43336758, 0.44302853]]),\n",
       " 'recalls': array([[0.23244721, 0.23611287, 0.24946334, 0.26603973, 0.27432223],\n",
       "        [0.24861568, 0.26890617, 0.28440095, 0.29177747, 0.30016268]]),\n",
       " 'rmses': array([[0.41632006, 0.41043231, 0.39680956, 0.38462913, 0.37603908],\n",
       "        [0.40572445, 0.38979054, 0.37597728, 0.36654626, 0.3604367 ]]),\n",
       " 'accuracies': array([[0.296938  , 0.3094139 , 0.336557  , 0.36162566, 0.37924385],\n",
       "        [0.33563665, 0.37540174, 0.4006311 , 0.41585344, 0.42721907]]),\n",
       " 'confusion_mats': [[<sklearn.metrics._plot.confusion_matrix.ConfusionMatrixDisplay at 0x1a43b98110>,\n",
       "   <sklearn.metrics._plot.confusion_matrix.ConfusionMatrixDisplay at 0x1a448893d0>,\n",
       "   <sklearn.metrics._plot.confusion_matrix.ConfusionMatrixDisplay at 0x10eaa2f10>,\n",
       "   <sklearn.metrics._plot.confusion_matrix.ConfusionMatrixDisplay at 0x1a3fae9b50>,\n",
       "   <sklearn.metrics._plot.confusion_matrix.ConfusionMatrixDisplay at 0x1a437b4790>],\n",
       "  [<sklearn.metrics._plot.confusion_matrix.ConfusionMatrixDisplay at 0x1a43904a10>,\n",
       "   <sklearn.metrics._plot.confusion_matrix.ConfusionMatrixDisplay at 0x1a3f9980d0>,\n",
       "   <sklearn.metrics._plot.confusion_matrix.ConfusionMatrixDisplay at 0x1a405aff10>,\n",
       "   <sklearn.metrics._plot.confusion_matrix.ConfusionMatrixDisplay at 0x1a3fb1a0d0>,\n",
       "   <sklearn.metrics._plot.confusion_matrix.ConfusionMatrixDisplay at 0x1a437d8510>]]}"
      ]
     },
     "execution_count": 31,
     "metadata": {},
     "output_type": "execute_result"
    }
   ],
   "source": [
    "scores"
   ]
  },
  {
   "cell_type": "code",
   "execution_count": 36,
   "metadata": {},
   "outputs": [
    {
     "data": {
      "text/plain": [
       "<sklearn.metrics._plot.confusion_matrix.ConfusionMatrixDisplay at 0x1a3f9980d0>"
      ]
     },
     "execution_count": 36,
     "metadata": {},
     "output_type": "execute_result"
    },
    {
     "data": {
      "text/plain": [
       "<Figure size 432x288 with 0 Axes>"
      ]
     },
     "metadata": {},
     "output_type": "display_data"
    },
    {
     "data": {
      "image/png": "[encoded data removed]",
      "text/plain": [
       "<Figure size 432x288 with 2 Axes>"
      ]
     },
     "metadata": {
      "needs_background": "light"
     },
     "output_type": "display_data"
    }
   ],
   "source": [
    "mat_1 = scores['confusion_mats'][1][1]\n",
    "plt.figure()\n",
    "mat_1.plot()"
   ]
  },
  {
   "cell_type": "code",
   "execution_count": null,
   "metadata": {},
   "outputs": [],
   "source": []
  }
 ],
 "metadata": {
  "kernelspec": {
   "display_name": "Python 3",
   "language": "python",
   "name": "python3"
  },
  "language_info": {
   "codemirror_mode": {
    "name": "ipython",
    "version": 3
   },
   "file_extension": ".py",
   "mimetype": "text/x-python",
   "name": "python",
   "nbconvert_exporter": "python",
   "pygments_lexer": "ipython3",
   "version": "3.7.9"
  }
 },
 "nbformat": 4,
 "nbformat_minor": 4
}
